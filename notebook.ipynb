{
 "cells": [
  {
   "cell_type": "markdown",
   "id": "11b1d278",
   "metadata": {},
   "source": [
    "# How To Clone and Access Repository\n",
    "\n",
    "1. Harus ada repository git nya dulu, lalu copy URL SSH nya\n",
    "2. Buka *terminal* (cmd, powershell, bash, etc) dengan working directory folder sesuai tempat kita ingin meng-*clone* repository tersebut\n",
    "3. Menggunakan terminal, gunakan `git clone <URL SSH>`\n",
    "4. Repository akan terbentuk dan tersambung di file tersebut\n",
    "\n",
    "### Selanjutnya buka Working Directory di repository-nya atau langsung buka VSCode di repository"
   ]
  },
  {
   "cell_type": "markdown",
   "id": "25cf2c8c",
   "metadata": {},
   "source": [
    "# Track and Commit File(s) Changes\n",
    "\n",
    "Kalau kerja dengan orang lain, jangan lupa `git pull` di awal\n",
    "\n",
    "1. Cek status file dalam repository dengan `git status`\n",
    "2. Untuk track perubahan pada file(s) gunakan `git add <nama files>` untuk single file, dan `git add .` untuk semua file\n",
    "3. Kemudian jika cek `git status` lagi, maka file telah di-*tracked* dan siap untuk dilakukan *commit*\n",
    "4. Untuk melakukan perubahan, lakukan dengan `git commit -m \"pesan commit, ada standarnya\"`\n",
    "5. Untuk membatalkan *commit*, bisa pakai `git reset mixed` (ada opsi lain untuk `git reset soft` dan `git reset hard`), atau `git revert`\n",
    "6. Untuk menyimpan perubahan ke repository remote (ex. GitHub), gunakan `git push`\n",
    "\n",
    "# Notes & Questions Untuk Kak Ali\n",
    "1. Ketika saya hendak run `git status` untuk pertama kali, terdeteksi ***dubious ownership*** pada repository lokal yang saya buat, sehingga saya harus menjalankan `git config --global --add safe.directory '<file directory>'`\n",
    "2. Ketika saya hendak run `git commit -m \"message\"`, ada pesan ***author identity unknown*** sehingga saya harus menjalankan dua perintah, yaitu (a) `git config --global user.email \"<email saya>>\"` dan (b) `git config --global user.name \"<nama saya>\"`"
   ]
  }
 ],
 "metadata": {
  "language_info": {
   "name": "python"
  }
 },
 "nbformat": 4,
 "nbformat_minor": 5
}
